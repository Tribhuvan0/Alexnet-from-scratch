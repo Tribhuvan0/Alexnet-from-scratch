{
  "nbformat": 4,
  "nbformat_minor": 0,
  "metadata": {
    "colab": {
      "provenance": [],
      "gpuType": "T4"
    },
    "kernelspec": {
      "name": "python3",
      "display_name": "Python 3"
    },
    "language_info": {
      "name": "python"
    },
    "accelerator": "GPU"
  },
  "cells": [
    {
      "cell_type": "markdown",
      "source": [
        "# Process Flow\n",
        "\n",
        "* Importing the important modules required for data loading, data transformation, display, preprocessing and model creation\n",
        "* Creating transformation for applying on images, to rescale the images\n",
        "* Using datsets creating training and testing data\n",
        "* Displaying some images from training and testing datasets\n",
        "* Write a function that creates subsets of data as given in problem statement\n",
        "* Writing train and evaluation funtions for training and evaluating the model performance on the Fashion MNIST dataset\n",
        "* Creating an Alexnet like architecture\n",
        "* Writing the function for training and evaluting the model\n",
        "* Displaying the graph showing the accuracy change with changing training size"
      ],
      "metadata": {
        "id": "TOO32GI5WSb9"
      }
    },
    {
      "cell_type": "markdown",
      "source": [
        "Consider we are going to cook a delicious dish named ***Paneer fashion MINST masala*** by no other then **Chef Tribhuvan**, for this first we would collect all the ingridients, so in initial steps we are collecting all the important ingredients for the delicious reciepe. In first step I took all the readymade spices availiable (important libraries) for our dish"
      ],
      "metadata": {
        "id": "OG0pnHMbhYwx"
      }
    },
    {
      "cell_type": "code",
      "execution_count": null,
      "metadata": {
        "id": "gT8F-gIzO_DI"
      },
      "outputs": [],
      "source": [
        "#importing important libraries\n",
        "import torch\n",
        "import torch.nn as nn\n",
        "from torch import optim\n",
        "import torchvision\n",
        "from torchvision import datasets, transforms\n",
        "from torch.utils.data import DataLoader, random_split\n",
        "from tqdm import tqdm\n",
        "import numpy as np\n",
        "import matplotlib.pyplot as plt\n"
      ]
    },
    {
      "cell_type": "markdown",
      "source": [
        "Now obiously there are some ingredients that aren't readily availiable in market, so we need to buy some raw materials like onion and tomato and create a puri, same is the case here. We need to get the data and apply some transforms and prepare it in a way which we can cook.\n",
        "\n",
        "Let's add onion and tomatoes to the mixer grinder\n"
      ],
      "metadata": {
        "id": "lreYC3mPgVhz"
      }
    },
    {
      "cell_type": "code",
      "source": [
        "def load_fashion_mnist_dataset(root: str = 'data') -> tuple:\n",
        "    \"\"\"\n",
        "    Load FashionMNIST dataset for training and testing.\n",
        "\n",
        "    Args:\n",
        "        root (str): Root directory where the dataset will be saved.\n",
        "\n",
        "    Returns:\n",
        "        tuple: A tuple containing training and testing datasets.\n",
        "            The datasets are instances of torchvision.datasets.FashionMNIST.\n",
        "    \"\"\"\n",
        "    try:\n",
        "        # Define the transforms for preprocessing the images\n",
        "        transform = transforms.Compose([\n",
        "            transforms.ToTensor(),\n",
        "            transforms.Normalize((0.5,), (0.5,))\n",
        "        ])\n",
        "\n",
        "        # Download FashionMNIST training and testing datasets\n",
        "        train_dataset = datasets.FashionMNIST(\n",
        "            root=root,\n",
        "            train=True,\n",
        "            download=True,\n",
        "            transform=transform\n",
        "        )\n",
        "\n",
        "        test_dataset = datasets.FashionMNIST(\n",
        "            root=root,\n",
        "            train=False,\n",
        "            download=True,\n",
        "            transform=transform\n",
        "        )\n",
        "\n",
        "        return train_dataset, test_dataset\n",
        "\n",
        "    except Exception as e:\n",
        "        print(\"An error occurred while loading the dataset:\", str(e))\n",
        "        return None, None\n"
      ],
      "metadata": {
        "id": "veWnMtLT03l6"
      },
      "execution_count": null,
      "outputs": []
    },
    {
      "cell_type": "markdown",
      "source": [
        "Let me open the mixer grinder and see how does my prepared ingridients looks like. Is it Okay? or I need to grind it more. lol\n",
        "\n",
        "Let's plot some of the images from our training and testing datasets"
      ],
      "metadata": {
        "id": "OgfOckG4gwmp"
      }
    },
    {
      "cell_type": "code",
      "source": [
        "def display_images_from_dataset(dataset, num_images=5, title='Sample Images'):\n",
        "    \"\"\"\n",
        "    Display sample images from a dataset.\n",
        "\n",
        "    Args:\n",
        "        dataset (torch.utils.data.Dataset): Dataset containing images.\n",
        "        num_images (int): Number of images to display (default is 5).\n",
        "        title (str): Title of the plot (default is 'Sample Images').\n",
        "\n",
        "    Returns:\n",
        "        None\n",
        "    \"\"\"\n",
        "    try:\n",
        "        # Randomly select num_images indices\n",
        "        indices = np.random.choice(len(dataset), size=num_images, replace=False)\n",
        "\n",
        "        fig, axes = plt.subplots(1, num_images, figsize=(15, 3))\n",
        "        fig.suptitle(title)\n",
        "\n",
        "        for i, idx in enumerate(indices):\n",
        "            image, label = dataset[idx]\n",
        "\n",
        "            axes[i].imshow(image.squeeze(), cmap='gray')\n",
        "            axes[i].set_title(f'Label: {label}')\n",
        "            axes[i].axis('off')\n",
        "\n",
        "        plt.show()\n",
        "\n",
        "    except Exception as e:\n",
        "        print(\"An error occurred while displaying images:\", str(e))\n",
        "\n",
        "\n",
        "train_dataset, test_dataset = load_fashion_mnist_dataset(root='data')\n",
        "display_images_from_dataset(train_dataset, num_images=5, title='Sample Images from Train Dataset')\n",
        "display_images_from_dataset(test_dataset, num_images=5, title='Sample Images from Test Dataset')\n"
      ],
      "metadata": {
        "colab": {
          "base_uri": "https://localhost:8080/",
          "height": 547
        },
        "id": "OYdw7-dLcB90",
        "outputId": "91c6a480-0396-4033-c929-34edb919ee67"
      },
      "execution_count": null,
      "outputs": [
        {
          "output_type": "display_data",
          "data": {
            "text/plain": [
              "<Figure size 1500x300 with 5 Axes>"
            ],
            "image/png": "[encoded data removed]"
          },
          "metadata": {}
        },
        {
          "output_type": "display_data",
          "data": {
            "text/plain": [
              "<Figure size 1500x300 with 5 Axes>"
            ],
            "image/png": "[encoded data removed]"
          },
          "metadata": {}
        }
      ]
    },
    {
      "cell_type": "markdown",
      "source": [
        "I think I'm missing something very important, right?\n",
        "What's it, it is paneer (model architecture), let's use the milk availiable in the house and make some paneer.\n",
        "\n",
        "In this step we are implementing architecture of Alexnet which has gave good results for image classification tasks"
      ],
      "metadata": {
        "id": "gU3QTd2MhBQj"
      }
    },
    {
      "cell_type": "code",
      "source": [
        "class AlexNet_FashionMNIST(nn.Module):\n",
        "    \"\"\"\n",
        "    AlexNet like model architecture for classification.\n",
        "\n",
        "    Args:\n",
        "        num_classes (int): Number of classes in the classification task (default is 10).\n",
        "\n",
        "    \"\"\"\n",
        "\n",
        "    def __init__(self, num_classes=10):\n",
        "        super().__init__()\n",
        "        self.features = nn.Sequential(\n",
        "            nn.Conv2d(1, 32, kernel_size=3, stride=1, padding=1),\n",
        "            nn.ReLU(inplace=True),\n",
        "            nn.MaxPool2d(kernel_size=2, stride=2),\n",
        "            nn.Conv2d(32, 64, kernel_size=3, padding=1),\n",
        "            nn.ReLU(inplace=True),\n",
        "            nn.MaxPool2d(kernel_size=2, stride=2),\n",
        "        )\n",
        "        self.classifier = nn.Sequential(\n",
        "            nn.Dropout(),\n",
        "            nn.Linear(64 * 7 * 7, 128),\n",
        "            nn.ReLU(inplace=True),\n",
        "            nn.Dropout(),\n",
        "            nn.Linear(128, 64),\n",
        "            nn.ReLU(inplace=True),\n",
        "            nn.Linear(64, num_classes),\n",
        "        )\n",
        "\n",
        "    def forward(self, x):\n",
        "        \"\"\"\n",
        "        Forward pass of the AlexNet model.\n",
        "\n",
        "        Args:\n",
        "            x (torch.Tensor): Input tensor with shape (batch_size, channels, height, width).\n",
        "\n",
        "        Returns:\n",
        "            torch.Tensor: Output tensor with shape (batch_size, num_classes).\n",
        "        \"\"\"\n",
        "        x = self.features(x)\n",
        "        x = torch.flatten(x, 1)\n",
        "        x = self.classifier(x)\n",
        "        return x\n"
      ],
      "metadata": {
        "id": "1gKgxziWhQmV"
      },
      "execution_count": null,
      "outputs": []
    },
    {
      "cell_type": "markdown",
      "source": [
        "We are all set with our ingridients, let's fix other stuff like for how much time we will cook, how much oil is required, how much salt is required.\n",
        "\n",
        "More salt will destroy the taste and same is the case with less salt. We need to make a balance, here we are defining train_model and evaluate_model function because of gpu usage limitations, I will be running it for 10 epochs"
      ],
      "metadata": {
        "id": "U1Y_ZA1PhVvP"
      }
    },
    {
      "cell_type": "code",
      "source": [
        "def train_model(model, train_loader, criterion, optimizer, num_epochs=10) -> None:\n",
        "    \"\"\"\n",
        "    Train the model.\n",
        "\n",
        "    Args:\n",
        "        model: The model to be trained.\n",
        "        train_loader: DataLoader for the training dataset.\n",
        "        criterion: The loss function.\n",
        "        optimizer: The optimizer for updating model parameters.\n",
        "        num_epochs (int): Number of epochs to train the model (default is 10).\n",
        "    \"\"\"\n",
        "    try:\n",
        "        model.train()\n",
        "        for epoch in range(num_epochs):\n",
        "            running_loss = 0.0\n",
        "            for inputs, labels in tqdm(train_loader, desc=f'Epoch {epoch+1}/{num_epochs}', unit='batch'):\n",
        "                inputs, labels = inputs.to(device), labels.to(device)\n",
        "                optimizer.zero_grad()\n",
        "                outputs = model(inputs)\n",
        "                loss = criterion(outputs, labels)\n",
        "                loss.backward()\n",
        "                optimizer.step()\n",
        "                running_loss += loss.item() * inputs.size(0)\n",
        "            epoch_loss = running_loss / len(train_loader.dataset)\n",
        "            print(f'Train Loss: {epoch_loss:.4f}')\n",
        "\n",
        "    except Exception as e:\n",
        "        print(\"An error occurred while training the model:\", str(e))\n",
        "\n",
        "def evaluate_model(model, test_loader) -> float:\n",
        "    \"\"\"\n",
        "    Evaluate the model on the test set.\n",
        "\n",
        "    Args:\n",
        "        model: The model to be evaluated.\n",
        "        test_loader: DataLoader for the test dataset.\n",
        "\n",
        "    Returns:\n",
        "        float: Accuracy of the model on the test set.\n",
        "    \"\"\"\n",
        "    try:\n",
        "        model.eval()\n",
        "        correct = 0\n",
        "        total = 0\n",
        "        with torch.no_grad():\n",
        "            for inputs, labels in test_loader:\n",
        "                inputs, labels = inputs.to(device), labels.to(device)\n",
        "                outputs = model(inputs)\n",
        "                _, predicted = torch.max(outputs, 1)\n",
        "                total += labels.size(0)\n",
        "                correct += (predicted == labels).sum().item()\n",
        "        accuracy = correct / total\n",
        "        print(f'Test Accuracy: {accuracy:.4f}')\n",
        "        return accuracy\n",
        "\n",
        "    except Exception as e:\n",
        "        print(\"An error occurred while evaluating the model:\", str(e))\n",
        "        return 0.0  # Return 0.0 as accuracy in case of error\n"
      ],
      "metadata": {
        "id": "f2kkjp77ZFUK"
      },
      "execution_count": null,
      "outputs": []
    },
    {
      "cell_type": "markdown",
      "source": [
        "Ohhhhppss!!! still something is left, very sorry I know you're hungry. Let's do it quickly, let's decide the amount of ingridients we will be using in our reciepe so that it tastes good\n",
        "\n",
        "As given in the problem statement let's create some subsets for the task to observe the impact of training size on the model preformance."
      ],
      "metadata": {
        "id": "0HcOp8BOn6D_"
      }
    },
    {
      "cell_type": "code",
      "source": [
        "def sample_subsets(dataset, sizes: list) -> list:\n",
        "    \"\"\"\n",
        "    Sample subsets of different sizes from a given dataset.\n",
        "\n",
        "    Args:\n",
        "        dataset: The dataset from which subsets will be sampled.\n",
        "        sizes (list): List of proportions (floats) representing the sizes of subsets\n",
        "            to be sampled. Each value should be between 0 and 1.\n",
        "\n",
        "    Returns:\n",
        "        list: A list containing subsets of the dataset.\n",
        "            Each subset is a torch.utils.data.Subset object.\n",
        "    \"\"\"\n",
        "    try:\n",
        "        subsets = []\n",
        "        for size in sizes:\n",
        "            subset_size = int(len(dataset) * size)\n",
        "            subset, _ = random_split(dataset, [subset_size, len(dataset) - subset_size])\n",
        "            subsets.append(subset)\n",
        "        return subsets\n",
        "\n",
        "    except Exception as e:\n",
        "        print(\"An error occurred while sampling subsets:\", str(e))\n",
        "        return []\n"
      ],
      "metadata": {
        "id": "eQsxifzhg95-"
      },
      "execution_count": null,
      "outputs": []
    },
    {
      "cell_type": "markdown",
      "source": [
        "Let's see if it needs to be cooked on gas stove or induction"
      ],
      "metadata": {
        "id": "vrKD-kK-pCyJ"
      }
    },
    {
      "cell_type": "code",
      "source": [
        "# Set device\n",
        "device = torch.device(\"cuda\" if torch.cuda.is_available() else \"cpu\")"
      ],
      "metadata": {
        "id": "Zbp8Su29pBWY"
      },
      "execution_count": null,
      "outputs": []
    },
    {
      "cell_type": "markdown",
      "source": [
        "Huray! We are ready to go now, let's put the pan on stove and start cooking our tasty ***Paneer Fashion MNIST masala***, here we gooo..."
      ],
      "metadata": {
        "id": "v-yq2NtooN3V"
      }
    },
    {
      "cell_type": "code",
      "source": [
        "def train_and_evaluate_on_subsets(train_dataset, test_dataset, subset_sizes, model, criterion, optimizer) -> list:\n",
        "    \"\"\"\n",
        "    Train classifiers on subsets of training dataset and compute test accuracies.\n",
        "\n",
        "    Args:\n",
        "        train_dataset: The training dataset.\n",
        "        test_dataset: The testing dataset.\n",
        "        subset_sizes (list): List of subset sizes to be sampled.\n",
        "        model: The model architecture to be used.\n",
        "        criterion: The loss function.\n",
        "        optimizer: The optimizer for updating model parameters.\n",
        "\n",
        "    Returns:\n",
        "        list: List of test accuracies obtained for each subset size.\n",
        "    \"\"\"\n",
        "    accuracies = []\n",
        "    try:\n",
        "        for size in subset_sizes:\n",
        "            subset = sample_subsets(train_dataset, [size])[0]\n",
        "            train_loader = DataLoader(subset, batch_size=64, shuffle=True)\n",
        "            test_loader = DataLoader(test_dataset, batch_size=64, shuffle=False)\n",
        "\n",
        "            model = model.to(device)\n",
        "\n",
        "            train_model(model, train_loader, criterion, optimizer)\n",
        "            accuracy = evaluate_model(model, test_loader)\n",
        "            accuracies.append(accuracy)\n",
        "\n",
        "        return accuracies\n",
        "\n",
        "    except Exception as e:\n",
        "        print(\"An error occurred during training and evaluation:\", str(e))\n",
        "        return []\n"
      ],
      "metadata": {
        "id": "TL3IDFJNdwRZ"
      },
      "execution_count": null,
      "outputs": []
    },
    {
      "cell_type": "markdown",
      "source": [
        "Cooking has started, give it proper time to cook, here we are calling all the required functions and runnning our model on the image subsets"
      ],
      "metadata": {
        "id": "DrtTjMAgocR4"
      }
    },
    {
      "cell_type": "code",
      "source": [
        "train_dataset, test_dataset = load_fashion_mnist_dataset(root='data')\n",
        "\n",
        "subset_sizes = np.linspace(0.001, 0.1, num=10)\n",
        "\n",
        "model = AlexNet_FashionMNIST(num_classes=10)\n",
        "criterion = nn.CrossEntropyLoss()\n",
        "optimizer = optim.Adam(model.parameters())\n",
        "\n",
        "accuracies = train_and_evaluate_on_subsets(train_dataset, test_dataset, subset_sizes, model, criterion, optimizer)\n",
        "print(\"Test Accuracies for Different Subset Sizes:\", accuracies)\n"
      ],
      "metadata": {
        "colab": {
          "base_uri": "https://localhost:8080/"
        },
        "id": "c-ryjnNSZpKc",
        "outputId": "02d362d1-951f-4eb1-e253-b27516023475"
      },
      "execution_count": null,
      "outputs": [
        {
          "output_type": "stream",
          "name": "stdout",
          "text": [
            "Downloading http://fashion-mnist.s3-website.eu-central-1.amazonaws.com/train-images-idx3-ubyte.gz\n",
            "Downloading http://fashion-mnist.s3-website.eu-central-1.amazonaws.com/train-images-idx3-ubyte.gz to data/FashionMNIST/raw/train-images-idx3-ubyte.gz\n"
          ]
        },
        {
          "output_type": "stream",
          "name": "stderr",
          "text": [
            "100%|██████████| 26421880/26421880 [00:01<00:00, 16141498.80it/s]\n"
          ]
        },
        {
          "output_type": "stream",
          "name": "stdout",
          "text": [
            "Extracting data/FashionMNIST/raw/train-images-idx3-ubyte.gz to data/FashionMNIST/raw\n",
            "\n",
            "Downloading http://fashion-mnist.s3-website.eu-central-1.amazonaws.com/train-labels-idx1-ubyte.gz\n",
            "Downloading http://fashion-mnist.s3-website.eu-central-1.amazonaws.com/train-labels-idx1-ubyte.gz to data/FashionMNIST/raw/train-labels-idx1-ubyte.gz\n"
          ]
        },
        {
          "output_type": "stream",
          "name": "stderr",
          "text": [
            "100%|██████████| 29515/29515 [00:00<00:00, 307685.71it/s]\n"
          ]
        },
        {
          "output_type": "stream",
          "name": "stdout",
          "text": [
            "Extracting data/FashionMNIST/raw/train-labels-idx1-ubyte.gz to data/FashionMNIST/raw\n",
            "\n",
            "Downloading http://fashion-mnist.s3-website.eu-central-1.amazonaws.com/t10k-images-idx3-ubyte.gz\n",
            "Downloading http://fashion-mnist.s3-website.eu-central-1.amazonaws.com/t10k-images-idx3-ubyte.gz to data/FashionMNIST/raw/t10k-images-idx3-ubyte.gz\n"
          ]
        },
        {
          "output_type": "stream",
          "name": "stderr",
          "text": [
            "100%|██████████| 4422102/4422102 [00:00<00:00, 5493137.77it/s]\n"
          ]
        },
        {
          "output_type": "stream",
          "name": "stdout",
          "text": [
            "Extracting data/FashionMNIST/raw/t10k-images-idx3-ubyte.gz to data/FashionMNIST/raw\n",
            "\n",
            "Downloading http://fashion-mnist.s3-website.eu-central-1.amazonaws.com/t10k-labels-idx1-ubyte.gz\n",
            "Downloading http://fashion-mnist.s3-website.eu-central-1.amazonaws.com/t10k-labels-idx1-ubyte.gz to data/FashionMNIST/raw/t10k-labels-idx1-ubyte.gz\n"
          ]
        },
        {
          "output_type": "stream",
          "name": "stderr",
          "text": [
            "100%|██████████| 5148/5148 [00:00<00:00, 12510009.84it/s]\n"
          ]
        },
        {
          "output_type": "stream",
          "name": "stdout",
          "text": [
            "Extracting data/FashionMNIST/raw/t10k-labels-idx1-ubyte.gz to data/FashionMNIST/raw\n",
            "\n"
          ]
        },
        {
          "output_type": "stream",
          "name": "stderr",
          "text": [
            "Epoch 1/10: 100%|██████████| 1/1 [00:00<00:00,  1.82batch/s]\n"
          ]
        },
        {
          "output_type": "stream",
          "name": "stdout",
          "text": [
            "Train Loss: 2.2992\n"
          ]
        },
        {
          "output_type": "stream",
          "name": "stderr",
          "text": [
            "Epoch 2/10: 100%|██████████| 1/1 [00:00<00:00,  7.71batch/s]\n"
          ]
        },
        {
          "output_type": "stream",
          "name": "stdout",
          "text": [
            "Train Loss: 2.2848\n"
          ]
        },
        {
          "output_type": "stream",
          "name": "stderr",
          "text": [
            "Epoch 3/10: 100%|██████████| 1/1 [00:00<00:00,  8.71batch/s]\n"
          ]
        },
        {
          "output_type": "stream",
          "name": "stdout",
          "text": [
            "Train Loss: 2.2709\n"
          ]
        },
        {
          "output_type": "stream",
          "name": "stderr",
          "text": [
            "Epoch 4/10: 100%|██████████| 1/1 [00:00<00:00, 10.07batch/s]\n"
          ]
        },
        {
          "output_type": "stream",
          "name": "stdout",
          "text": [
            "Train Loss: 2.2498\n"
          ]
        },
        {
          "output_type": "stream",
          "name": "stderr",
          "text": [
            "Epoch 5/10: 100%|██████████| 1/1 [00:00<00:00,  7.64batch/s]\n"
          ]
        },
        {
          "output_type": "stream",
          "name": "stdout",
          "text": [
            "Train Loss: 2.2088\n"
          ]
        },
        {
          "output_type": "stream",
          "name": "stderr",
          "text": [
            "Epoch 6/10: 100%|██████████| 1/1 [00:00<00:00,  9.77batch/s]\n"
          ]
        },
        {
          "output_type": "stream",
          "name": "stdout",
          "text": [
            "Train Loss: 2.1808\n"
          ]
        },
        {
          "output_type": "stream",
          "name": "stderr",
          "text": [
            "Epoch 7/10: 100%|██████████| 1/1 [00:00<00:00, 10.87batch/s]\n"
          ]
        },
        {
          "output_type": "stream",
          "name": "stdout",
          "text": [
            "Train Loss: 2.1772\n"
          ]
        },
        {
          "output_type": "stream",
          "name": "stderr",
          "text": [
            "Epoch 8/10: 100%|██████████| 1/1 [00:00<00:00,  9.21batch/s]\n"
          ]
        },
        {
          "output_type": "stream",
          "name": "stdout",
          "text": [
            "Train Loss: 2.0983\n"
          ]
        },
        {
          "output_type": "stream",
          "name": "stderr",
          "text": [
            "Epoch 9/10: 100%|██████████| 1/1 [00:00<00:00,  9.70batch/s]\n"
          ]
        },
        {
          "output_type": "stream",
          "name": "stdout",
          "text": [
            "Train Loss: 2.0384\n"
          ]
        },
        {
          "output_type": "stream",
          "name": "stderr",
          "text": [
            "Epoch 10/10: 100%|██████████| 1/1 [00:00<00:00, 10.40batch/s]\n"
          ]
        },
        {
          "output_type": "stream",
          "name": "stdout",
          "text": [
            "Train Loss: 1.9819\n",
            "Test Accuracy: 0.3121\n"
          ]
        },
        {
          "output_type": "stream",
          "name": "stderr",
          "text": [
            "Epoch 1/10: 100%|██████████| 12/12 [00:01<00:00,  9.86batch/s]\n"
          ]
        },
        {
          "output_type": "stream",
          "name": "stdout",
          "text": [
            "Train Loss: 1.7495\n"
          ]
        },
        {
          "output_type": "stream",
          "name": "stderr",
          "text": [
            "Epoch 2/10: 100%|██████████| 12/12 [00:01<00:00, 10.30batch/s]\n"
          ]
        },
        {
          "output_type": "stream",
          "name": "stdout",
          "text": [
            "Train Loss: 1.3743\n"
          ]
        },
        {
          "output_type": "stream",
          "name": "stderr",
          "text": [
            "Epoch 3/10: 100%|██████████| 12/12 [00:01<00:00,  9.94batch/s]\n"
          ]
        },
        {
          "output_type": "stream",
          "name": "stdout",
          "text": [
            "Train Loss: 1.1086\n"
          ]
        },
        {
          "output_type": "stream",
          "name": "stderr",
          "text": [
            "Epoch 4/10: 100%|██████████| 12/12 [00:01<00:00, 10.24batch/s]\n"
          ]
        },
        {
          "output_type": "stream",
          "name": "stdout",
          "text": [
            "Train Loss: 1.0306\n"
          ]
        },
        {
          "output_type": "stream",
          "name": "stderr",
          "text": [
            "Epoch 5/10: 100%|██████████| 12/12 [00:01<00:00, 10.32batch/s]\n"
          ]
        },
        {
          "output_type": "stream",
          "name": "stdout",
          "text": [
            "Train Loss: 0.8922\n"
          ]
        },
        {
          "output_type": "stream",
          "name": "stderr",
          "text": [
            "Epoch 6/10: 100%|██████████| 12/12 [00:01<00:00, 10.09batch/s]\n"
          ]
        },
        {
          "output_type": "stream",
          "name": "stdout",
          "text": [
            "Train Loss: 0.8775\n"
          ]
        },
        {
          "output_type": "stream",
          "name": "stderr",
          "text": [
            "Epoch 7/10: 100%|██████████| 12/12 [00:01<00:00, 10.25batch/s]\n"
          ]
        },
        {
          "output_type": "stream",
          "name": "stdout",
          "text": [
            "Train Loss: 0.7922\n"
          ]
        },
        {
          "output_type": "stream",
          "name": "stderr",
          "text": [
            "Epoch 8/10: 100%|██████████| 12/12 [00:01<00:00,  9.48batch/s]\n"
          ]
        },
        {
          "output_type": "stream",
          "name": "stdout",
          "text": [
            "Train Loss: 0.7579\n"
          ]
        },
        {
          "output_type": "stream",
          "name": "stderr",
          "text": [
            "Epoch 9/10: 100%|██████████| 12/12 [00:01<00:00,  6.94batch/s]\n"
          ]
        },
        {
          "output_type": "stream",
          "name": "stdout",
          "text": [
            "Train Loss: 0.7027\n"
          ]
        },
        {
          "output_type": "stream",
          "name": "stderr",
          "text": [
            "Epoch 10/10: 100%|██████████| 12/12 [00:01<00:00,  8.34batch/s]\n"
          ]
        },
        {
          "output_type": "stream",
          "name": "stdout",
          "text": [
            "Train Loss: 0.7015\n",
            "Test Accuracy: 0.7522\n"
          ]
        },
        {
          "output_type": "stream",
          "name": "stderr",
          "text": [
            "Epoch 1/10: 100%|██████████| 22/22 [00:02<00:00,  8.56batch/s]\n"
          ]
        },
        {
          "output_type": "stream",
          "name": "stdout",
          "text": [
            "Train Loss: 0.6708\n"
          ]
        },
        {
          "output_type": "stream",
          "name": "stderr",
          "text": [
            "Epoch 2/10: 100%|██████████| 22/22 [00:02<00:00,  7.66batch/s]\n"
          ]
        },
        {
          "output_type": "stream",
          "name": "stdout",
          "text": [
            "Train Loss: 0.6617\n"
          ]
        },
        {
          "output_type": "stream",
          "name": "stderr",
          "text": [
            "Epoch 3/10: 100%|██████████| 22/22 [00:02<00:00,  9.56batch/s]\n"
          ]
        },
        {
          "output_type": "stream",
          "name": "stdout",
          "text": [
            "Train Loss: 0.6258\n"
          ]
        },
        {
          "output_type": "stream",
          "name": "stderr",
          "text": [
            "Epoch 4/10: 100%|██████████| 22/22 [00:02<00:00,  9.59batch/s]\n"
          ]
        },
        {
          "output_type": "stream",
          "name": "stdout",
          "text": [
            "Train Loss: 0.5745\n"
          ]
        },
        {
          "output_type": "stream",
          "name": "stderr",
          "text": [
            "Epoch 5/10: 100%|██████████| 22/22 [00:02<00:00,  9.86batch/s]\n"
          ]
        },
        {
          "output_type": "stream",
          "name": "stdout",
          "text": [
            "Train Loss: 0.5684\n"
          ]
        },
        {
          "output_type": "stream",
          "name": "stderr",
          "text": [
            "Epoch 6/10: 100%|██████████| 22/22 [00:02<00:00,  9.11batch/s]\n"
          ]
        },
        {
          "output_type": "stream",
          "name": "stdout",
          "text": [
            "Train Loss: 0.5209\n"
          ]
        },
        {
          "output_type": "stream",
          "name": "stderr",
          "text": [
            "Epoch 7/10: 100%|██████████| 22/22 [00:04<00:00,  5.42batch/s]\n"
          ]
        },
        {
          "output_type": "stream",
          "name": "stdout",
          "text": [
            "Train Loss: 0.5150\n"
          ]
        },
        {
          "output_type": "stream",
          "name": "stderr",
          "text": [
            "Epoch 8/10: 100%|██████████| 22/22 [00:05<00:00,  4.16batch/s]\n"
          ]
        },
        {
          "output_type": "stream",
          "name": "stdout",
          "text": [
            "Train Loss: 0.4774\n"
          ]
        },
        {
          "output_type": "stream",
          "name": "stderr",
          "text": [
            "Epoch 9/10: 100%|██████████| 22/22 [00:03<00:00,  7.03batch/s]\n"
          ]
        },
        {
          "output_type": "stream",
          "name": "stdout",
          "text": [
            "Train Loss: 0.4614\n"
          ]
        },
        {
          "output_type": "stream",
          "name": "stderr",
          "text": [
            "Epoch 10/10: 100%|██████████| 22/22 [00:03<00:00,  7.08batch/s]\n"
          ]
        },
        {
          "output_type": "stream",
          "name": "stdout",
          "text": [
            "Train Loss: 0.4609\n",
            "Test Accuracy: 0.8080\n"
          ]
        },
        {
          "output_type": "stream",
          "name": "stderr",
          "text": [
            "Epoch 1/10: 100%|██████████| 32/32 [00:03<00:00,  8.29batch/s]\n"
          ]
        },
        {
          "output_type": "stream",
          "name": "stdout",
          "text": [
            "Train Loss: 0.5833\n"
          ]
        },
        {
          "output_type": "stream",
          "name": "stderr",
          "text": [
            "Epoch 2/10: 100%|██████████| 32/32 [00:03<00:00,  8.88batch/s]\n"
          ]
        },
        {
          "output_type": "stream",
          "name": "stdout",
          "text": [
            "Train Loss: 0.5473\n"
          ]
        },
        {
          "output_type": "stream",
          "name": "stderr",
          "text": [
            "Epoch 3/10: 100%|██████████| 32/32 [00:03<00:00,  9.63batch/s]\n"
          ]
        },
        {
          "output_type": "stream",
          "name": "stdout",
          "text": [
            "Train Loss: 0.4987\n"
          ]
        },
        {
          "output_type": "stream",
          "name": "stderr",
          "text": [
            "Epoch 4/10: 100%|██████████| 32/32 [00:03<00:00,  9.68batch/s]\n"
          ]
        },
        {
          "output_type": "stream",
          "name": "stdout",
          "text": [
            "Train Loss: 0.4901\n"
          ]
        },
        {
          "output_type": "stream",
          "name": "stderr",
          "text": [
            "Epoch 5/10: 100%|██████████| 32/32 [00:04<00:00,  7.73batch/s]\n"
          ]
        },
        {
          "output_type": "stream",
          "name": "stdout",
          "text": [
            "Train Loss: 0.4802\n"
          ]
        },
        {
          "output_type": "stream",
          "name": "stderr",
          "text": [
            "Epoch 6/10: 100%|██████████| 32/32 [00:03<00:00,  9.61batch/s]\n"
          ]
        },
        {
          "output_type": "stream",
          "name": "stdout",
          "text": [
            "Train Loss: 0.4400\n"
          ]
        },
        {
          "output_type": "stream",
          "name": "stderr",
          "text": [
            "Epoch 7/10: 100%|██████████| 32/32 [00:03<00:00,  9.41batch/s]\n"
          ]
        },
        {
          "output_type": "stream",
          "name": "stdout",
          "text": [
            "Train Loss: 0.4370\n"
          ]
        },
        {
          "output_type": "stream",
          "name": "stderr",
          "text": [
            "Epoch 8/10: 100%|██████████| 32/32 [00:03<00:00,  8.59batch/s]\n"
          ]
        },
        {
          "output_type": "stream",
          "name": "stdout",
          "text": [
            "Train Loss: 0.4346\n"
          ]
        },
        {
          "output_type": "stream",
          "name": "stderr",
          "text": [
            "Epoch 9/10: 100%|██████████| 32/32 [00:03<00:00,  8.33batch/s]\n"
          ]
        },
        {
          "output_type": "stream",
          "name": "stdout",
          "text": [
            "Train Loss: 0.4081\n"
          ]
        },
        {
          "output_type": "stream",
          "name": "stderr",
          "text": [
            "Epoch 10/10: 100%|██████████| 32/32 [00:03<00:00,  9.38batch/s]\n"
          ]
        },
        {
          "output_type": "stream",
          "name": "stdout",
          "text": [
            "Train Loss: 0.3951\n",
            "Test Accuracy: 0.8369\n"
          ]
        },
        {
          "output_type": "stream",
          "name": "stderr",
          "text": [
            "Epoch 1/10: 100%|██████████| 43/43 [00:04<00:00,  9.52batch/s]\n"
          ]
        },
        {
          "output_type": "stream",
          "name": "stdout",
          "text": [
            "Train Loss: 0.5218\n"
          ]
        },
        {
          "output_type": "stream",
          "name": "stderr",
          "text": [
            "Epoch 2/10: 100%|██████████| 43/43 [00:04<00:00,  9.10batch/s]\n"
          ]
        },
        {
          "output_type": "stream",
          "name": "stdout",
          "text": [
            "Train Loss: 0.4947\n"
          ]
        },
        {
          "output_type": "stream",
          "name": "stderr",
          "text": [
            "Epoch 3/10: 100%|██████████| 43/43 [00:05<00:00,  8.16batch/s]\n"
          ]
        },
        {
          "output_type": "stream",
          "name": "stdout",
          "text": [
            "Train Loss: 0.4739\n"
          ]
        },
        {
          "output_type": "stream",
          "name": "stderr",
          "text": [
            "Epoch 4/10: 100%|██████████| 43/43 [00:04<00:00,  9.40batch/s]\n"
          ]
        },
        {
          "output_type": "stream",
          "name": "stdout",
          "text": [
            "Train Loss: 0.4567\n"
          ]
        },
        {
          "output_type": "stream",
          "name": "stderr",
          "text": [
            "Epoch 5/10: 100%|██████████| 43/43 [00:05<00:00,  7.95batch/s]\n"
          ]
        },
        {
          "output_type": "stream",
          "name": "stdout",
          "text": [
            "Train Loss: 0.4254\n"
          ]
        },
        {
          "output_type": "stream",
          "name": "stderr",
          "text": [
            "Epoch 6/10: 100%|██████████| 43/43 [00:04<00:00,  9.48batch/s]\n"
          ]
        },
        {
          "output_type": "stream",
          "name": "stdout",
          "text": [
            "Train Loss: 0.4459\n"
          ]
        },
        {
          "output_type": "stream",
          "name": "stderr",
          "text": [
            "Epoch 7/10: 100%|██████████| 43/43 [00:04<00:00,  9.46batch/s]\n"
          ]
        },
        {
          "output_type": "stream",
          "name": "stdout",
          "text": [
            "Train Loss: 0.4002\n"
          ]
        },
        {
          "output_type": "stream",
          "name": "stderr",
          "text": [
            "Epoch 8/10: 100%|██████████| 43/43 [00:05<00:00,  8.02batch/s]\n"
          ]
        },
        {
          "output_type": "stream",
          "name": "stdout",
          "text": [
            "Train Loss: 0.3856\n"
          ]
        },
        {
          "output_type": "stream",
          "name": "stderr",
          "text": [
            "Epoch 9/10: 100%|██████████| 43/43 [00:04<00:00,  8.76batch/s]\n"
          ]
        },
        {
          "output_type": "stream",
          "name": "stdout",
          "text": [
            "Train Loss: 0.3820\n"
          ]
        },
        {
          "output_type": "stream",
          "name": "stderr",
          "text": [
            "Epoch 10/10: 100%|██████████| 43/43 [00:05<00:00,  7.88batch/s]\n"
          ]
        },
        {
          "output_type": "stream",
          "name": "stdout",
          "text": [
            "Train Loss: 0.3868\n",
            "Test Accuracy: 0.8537\n"
          ]
        },
        {
          "output_type": "stream",
          "name": "stderr",
          "text": [
            "Epoch 1/10: 100%|██████████| 53/53 [00:06<00:00,  8.15batch/s]\n"
          ]
        },
        {
          "output_type": "stream",
          "name": "stdout",
          "text": [
            "Train Loss: 0.4477\n"
          ]
        },
        {
          "output_type": "stream",
          "name": "stderr",
          "text": [
            "Epoch 2/10: 100%|██████████| 53/53 [00:05<00:00,  9.60batch/s]\n"
          ]
        },
        {
          "output_type": "stream",
          "name": "stdout",
          "text": [
            "Train Loss: 0.4156\n"
          ]
        },
        {
          "output_type": "stream",
          "name": "stderr",
          "text": [
            "Epoch 3/10: 100%|██████████| 53/53 [00:06<00:00,  7.98batch/s]\n"
          ]
        },
        {
          "output_type": "stream",
          "name": "stdout",
          "text": [
            "Train Loss: 0.3959\n"
          ]
        },
        {
          "output_type": "stream",
          "name": "stderr",
          "text": [
            "Epoch 4/10: 100%|██████████| 53/53 [00:08<00:00,  6.57batch/s]\n"
          ]
        },
        {
          "output_type": "stream",
          "name": "stdout",
          "text": [
            "Train Loss: 0.3666\n"
          ]
        },
        {
          "output_type": "stream",
          "name": "stderr",
          "text": [
            "Epoch 5/10: 100%|██████████| 53/53 [00:06<00:00,  8.30batch/s]\n"
          ]
        },
        {
          "output_type": "stream",
          "name": "stdout",
          "text": [
            "Train Loss: 0.3583\n"
          ]
        },
        {
          "output_type": "stream",
          "name": "stderr",
          "text": [
            "Epoch 6/10: 100%|██████████| 53/53 [00:06<00:00,  8.52batch/s]\n"
          ]
        },
        {
          "output_type": "stream",
          "name": "stdout",
          "text": [
            "Train Loss: 0.3516\n"
          ]
        },
        {
          "output_type": "stream",
          "name": "stderr",
          "text": [
            "Epoch 7/10: 100%|██████████| 53/53 [00:10<00:00,  4.83batch/s]\n"
          ]
        },
        {
          "output_type": "stream",
          "name": "stdout",
          "text": [
            "Train Loss: 0.3299\n"
          ]
        },
        {
          "output_type": "stream",
          "name": "stderr",
          "text": [
            "Epoch 8/10: 100%|██████████| 53/53 [00:06<00:00,  8.45batch/s]\n"
          ]
        },
        {
          "output_type": "stream",
          "name": "stdout",
          "text": [
            "Train Loss: 0.3390\n"
          ]
        },
        {
          "output_type": "stream",
          "name": "stderr",
          "text": [
            "Epoch 9/10: 100%|██████████| 53/53 [00:05<00:00,  9.78batch/s]\n"
          ]
        },
        {
          "output_type": "stream",
          "name": "stdout",
          "text": [
            "Train Loss: 0.3166\n"
          ]
        },
        {
          "output_type": "stream",
          "name": "stderr",
          "text": [
            "Epoch 10/10: 100%|██████████| 53/53 [00:06<00:00,  8.39batch/s]\n"
          ]
        },
        {
          "output_type": "stream",
          "name": "stdout",
          "text": [
            "Train Loss: 0.3076\n",
            "Test Accuracy: 0.8663\n"
          ]
        },
        {
          "output_type": "stream",
          "name": "stderr",
          "text": [
            "Epoch 1/10: 100%|██████████| 63/63 [00:07<00:00,  8.29batch/s]\n"
          ]
        },
        {
          "output_type": "stream",
          "name": "stdout",
          "text": [
            "Train Loss: 0.4478\n"
          ]
        },
        {
          "output_type": "stream",
          "name": "stderr",
          "text": [
            "Epoch 2/10: 100%|██████████| 63/63 [00:09<00:00,  6.33batch/s]\n"
          ]
        },
        {
          "output_type": "stream",
          "name": "stdout",
          "text": [
            "Train Loss: 0.4130\n"
          ]
        },
        {
          "output_type": "stream",
          "name": "stderr",
          "text": [
            "Epoch 3/10: 100%|██████████| 63/63 [00:07<00:00,  8.31batch/s]\n"
          ]
        },
        {
          "output_type": "stream",
          "name": "stdout",
          "text": [
            "Train Loss: 0.3895\n"
          ]
        },
        {
          "output_type": "stream",
          "name": "stderr",
          "text": [
            "Epoch 4/10: 100%|██████████| 63/63 [00:07<00:00,  8.39batch/s]\n"
          ]
        },
        {
          "output_type": "stream",
          "name": "stdout",
          "text": [
            "Train Loss: 0.4003\n"
          ]
        },
        {
          "output_type": "stream",
          "name": "stderr",
          "text": [
            "Epoch 5/10: 100%|██████████| 63/63 [00:06<00:00,  9.53batch/s]\n"
          ]
        },
        {
          "output_type": "stream",
          "name": "stdout",
          "text": [
            "Train Loss: 0.3610\n"
          ]
        },
        {
          "output_type": "stream",
          "name": "stderr",
          "text": [
            "Epoch 6/10: 100%|██████████| 63/63 [00:07<00:00,  8.37batch/s]\n"
          ]
        },
        {
          "output_type": "stream",
          "name": "stdout",
          "text": [
            "Train Loss: 0.3429\n"
          ]
        },
        {
          "output_type": "stream",
          "name": "stderr",
          "text": [
            "Epoch 7/10: 100%|██████████| 63/63 [00:06<00:00,  9.44batch/s]\n"
          ]
        },
        {
          "output_type": "stream",
          "name": "stdout",
          "text": [
            "Train Loss: 0.3408\n"
          ]
        },
        {
          "output_type": "stream",
          "name": "stderr",
          "text": [
            "Epoch 8/10: 100%|██████████| 63/63 [00:07<00:00,  8.35batch/s]\n"
          ]
        },
        {
          "output_type": "stream",
          "name": "stdout",
          "text": [
            "Train Loss: 0.3280\n"
          ]
        },
        {
          "output_type": "stream",
          "name": "stderr",
          "text": [
            "Epoch 9/10: 100%|██████████| 63/63 [00:07<00:00,  8.59batch/s]\n"
          ]
        },
        {
          "output_type": "stream",
          "name": "stdout",
          "text": [
            "Train Loss: 0.3275\n"
          ]
        },
        {
          "output_type": "stream",
          "name": "stderr",
          "text": [
            "Epoch 10/10: 100%|██████████| 63/63 [00:07<00:00,  8.31batch/s]\n"
          ]
        },
        {
          "output_type": "stream",
          "name": "stdout",
          "text": [
            "Train Loss: 0.3115\n",
            "Test Accuracy: 0.8804\n"
          ]
        },
        {
          "output_type": "stream",
          "name": "stderr",
          "text": [
            "Epoch 1/10: 100%|██████████| 74/74 [00:08<00:00,  9.12batch/s]\n"
          ]
        },
        {
          "output_type": "stream",
          "name": "stdout",
          "text": [
            "Train Loss: 0.4165\n"
          ]
        },
        {
          "output_type": "stream",
          "name": "stderr",
          "text": [
            "Epoch 2/10: 100%|██████████| 74/74 [00:08<00:00,  8.80batch/s]\n"
          ]
        },
        {
          "output_type": "stream",
          "name": "stdout",
          "text": [
            "Train Loss: 0.3892\n"
          ]
        },
        {
          "output_type": "stream",
          "name": "stderr",
          "text": [
            "Epoch 3/10: 100%|██████████| 74/74 [00:08<00:00,  8.52batch/s]\n"
          ]
        },
        {
          "output_type": "stream",
          "name": "stdout",
          "text": [
            "Train Loss: 0.3722\n"
          ]
        },
        {
          "output_type": "stream",
          "name": "stderr",
          "text": [
            "Epoch 4/10: 100%|██████████| 74/74 [00:08<00:00,  9.22batch/s]\n"
          ]
        },
        {
          "output_type": "stream",
          "name": "stdout",
          "text": [
            "Train Loss: 0.3441\n"
          ]
        },
        {
          "output_type": "stream",
          "name": "stderr",
          "text": [
            "Epoch 5/10: 100%|██████████| 74/74 [00:08<00:00,  8.63batch/s]\n"
          ]
        },
        {
          "output_type": "stream",
          "name": "stdout",
          "text": [
            "Train Loss: 0.3336\n"
          ]
        },
        {
          "output_type": "stream",
          "name": "stderr",
          "text": [
            "Epoch 6/10: 100%|██████████| 74/74 [00:08<00:00,  8.56batch/s]\n"
          ]
        },
        {
          "output_type": "stream",
          "name": "stdout",
          "text": [
            "Train Loss: 0.3078\n"
          ]
        },
        {
          "output_type": "stream",
          "name": "stderr",
          "text": [
            "Epoch 7/10: 100%|██████████| 74/74 [00:07<00:00,  9.32batch/s]\n"
          ]
        },
        {
          "output_type": "stream",
          "name": "stdout",
          "text": [
            "Train Loss: 0.3075\n"
          ]
        },
        {
          "output_type": "stream",
          "name": "stderr",
          "text": [
            "Epoch 8/10: 100%|██████████| 74/74 [00:08<00:00,  8.62batch/s]\n"
          ]
        },
        {
          "output_type": "stream",
          "name": "stdout",
          "text": [
            "Train Loss: 0.2931\n"
          ]
        },
        {
          "output_type": "stream",
          "name": "stderr",
          "text": [
            "Epoch 9/10: 100%|██████████| 74/74 [00:08<00:00,  8.42batch/s]\n"
          ]
        },
        {
          "output_type": "stream",
          "name": "stdout",
          "text": [
            "Train Loss: 0.2839\n"
          ]
        },
        {
          "output_type": "stream",
          "name": "stderr",
          "text": [
            "Epoch 10/10: 100%|██████████| 74/74 [00:08<00:00,  9.24batch/s]\n"
          ]
        },
        {
          "output_type": "stream",
          "name": "stdout",
          "text": [
            "Train Loss: 0.2716\n",
            "Test Accuracy: 0.8885\n"
          ]
        },
        {
          "output_type": "stream",
          "name": "stderr",
          "text": [
            "Epoch 1/10: 100%|██████████| 84/84 [00:09<00:00,  8.62batch/s]\n"
          ]
        },
        {
          "output_type": "stream",
          "name": "stdout",
          "text": [
            "Train Loss: 0.3830\n"
          ]
        },
        {
          "output_type": "stream",
          "name": "stderr",
          "text": [
            "Epoch 2/10: 100%|██████████| 84/84 [00:08<00:00,  9.51batch/s]\n"
          ]
        },
        {
          "output_type": "stream",
          "name": "stdout",
          "text": [
            "Train Loss: 0.3477\n"
          ]
        },
        {
          "output_type": "stream",
          "name": "stderr",
          "text": [
            "Epoch 3/10: 100%|██████████| 84/84 [00:08<00:00,  9.61batch/s]\n"
          ]
        },
        {
          "output_type": "stream",
          "name": "stdout",
          "text": [
            "Train Loss: 0.3234\n"
          ]
        },
        {
          "output_type": "stream",
          "name": "stderr",
          "text": [
            "Epoch 4/10: 100%|██████████| 84/84 [00:09<00:00,  9.01batch/s]\n"
          ]
        },
        {
          "output_type": "stream",
          "name": "stdout",
          "text": [
            "Train Loss: 0.3050\n"
          ]
        },
        {
          "output_type": "stream",
          "name": "stderr",
          "text": [
            "Epoch 5/10: 100%|██████████| 84/84 [00:09<00:00,  9.04batch/s]\n"
          ]
        },
        {
          "output_type": "stream",
          "name": "stdout",
          "text": [
            "Train Loss: 0.2888\n"
          ]
        },
        {
          "output_type": "stream",
          "name": "stderr",
          "text": [
            "Epoch 6/10: 100%|██████████| 84/84 [00:08<00:00, 10.00batch/s]\n"
          ]
        },
        {
          "output_type": "stream",
          "name": "stdout",
          "text": [
            "Train Loss: 0.2860\n"
          ]
        },
        {
          "output_type": "stream",
          "name": "stderr",
          "text": [
            "Epoch 7/10: 100%|██████████| 84/84 [00:09<00:00,  9.14batch/s]\n"
          ]
        },
        {
          "output_type": "stream",
          "name": "stdout",
          "text": [
            "Train Loss: 0.2780\n"
          ]
        },
        {
          "output_type": "stream",
          "name": "stderr",
          "text": [
            "Epoch 8/10: 100%|██████████| 84/84 [00:09<00:00,  9.07batch/s]\n"
          ]
        },
        {
          "output_type": "stream",
          "name": "stdout",
          "text": [
            "Train Loss: 0.2641\n"
          ]
        },
        {
          "output_type": "stream",
          "name": "stderr",
          "text": [
            "Epoch 9/10: 100%|██████████| 84/84 [00:08<00:00,  9.83batch/s]\n"
          ]
        },
        {
          "output_type": "stream",
          "name": "stdout",
          "text": [
            "Train Loss: 0.2692\n"
          ]
        },
        {
          "output_type": "stream",
          "name": "stderr",
          "text": [
            "Epoch 10/10: 100%|██████████| 84/84 [00:09<00:00,  9.18batch/s]\n"
          ]
        },
        {
          "output_type": "stream",
          "name": "stdout",
          "text": [
            "Train Loss: 0.2546\n",
            "Test Accuracy: 0.8908\n"
          ]
        },
        {
          "output_type": "stream",
          "name": "stderr",
          "text": [
            "Epoch 1/10: 100%|██████████| 94/94 [00:10<00:00,  9.14batch/s]\n"
          ]
        },
        {
          "output_type": "stream",
          "name": "stdout",
          "text": [
            "Train Loss: 0.3398\n"
          ]
        },
        {
          "output_type": "stream",
          "name": "stderr",
          "text": [
            "Epoch 2/10: 100%|██████████| 94/94 [00:09<00:00,  9.80batch/s]\n"
          ]
        },
        {
          "output_type": "stream",
          "name": "stdout",
          "text": [
            "Train Loss: 0.3168\n"
          ]
        },
        {
          "output_type": "stream",
          "name": "stderr",
          "text": [
            "Epoch 3/10: 100%|██████████| 94/94 [00:13<00:00,  7.10batch/s]\n"
          ]
        },
        {
          "output_type": "stream",
          "name": "stdout",
          "text": [
            "Train Loss: 0.2888\n"
          ]
        },
        {
          "output_type": "stream",
          "name": "stderr",
          "text": [
            "Epoch 4/10: 100%|██████████| 94/94 [00:10<00:00,  9.10batch/s]\n"
          ]
        },
        {
          "output_type": "stream",
          "name": "stdout",
          "text": [
            "Train Loss: 0.2943\n"
          ]
        },
        {
          "output_type": "stream",
          "name": "stderr",
          "text": [
            "Epoch 5/10: 100%|██████████| 94/94 [00:10<00:00,  8.91batch/s]\n"
          ]
        },
        {
          "output_type": "stream",
          "name": "stdout",
          "text": [
            "Train Loss: 0.2676\n"
          ]
        },
        {
          "output_type": "stream",
          "name": "stderr",
          "text": [
            "Epoch 6/10: 100%|██████████| 94/94 [00:10<00:00,  8.92batch/s]\n"
          ]
        },
        {
          "output_type": "stream",
          "name": "stdout",
          "text": [
            "Train Loss: 0.2660\n"
          ]
        },
        {
          "output_type": "stream",
          "name": "stderr",
          "text": [
            "Epoch 7/10: 100%|██████████| 94/94 [00:10<00:00,  8.86batch/s]\n"
          ]
        },
        {
          "output_type": "stream",
          "name": "stdout",
          "text": [
            "Train Loss: 0.2527\n"
          ]
        },
        {
          "output_type": "stream",
          "name": "stderr",
          "text": [
            "Epoch 8/10: 100%|██████████| 94/94 [00:10<00:00,  9.25batch/s]\n"
          ]
        },
        {
          "output_type": "stream",
          "name": "stdout",
          "text": [
            "Train Loss: 0.2440\n"
          ]
        },
        {
          "output_type": "stream",
          "name": "stderr",
          "text": [
            "Epoch 9/10: 100%|██████████| 94/94 [00:09<00:00,  9.50batch/s]\n"
          ]
        },
        {
          "output_type": "stream",
          "name": "stdout",
          "text": [
            "Train Loss: 0.2476\n"
          ]
        },
        {
          "output_type": "stream",
          "name": "stderr",
          "text": [
            "Epoch 10/10: 100%|██████████| 94/94 [00:11<00:00,  8.14batch/s]\n"
          ]
        },
        {
          "output_type": "stream",
          "name": "stdout",
          "text": [
            "Train Loss: 0.2241\n",
            "Test Accuracy: 0.8970\n",
            "Test Accuracies for Different Subset Sizes: [0.3121, 0.7522, 0.808, 0.8369, 0.8537, 0.8663, 0.8804, 0.8885, 0.8908, 0.897]\n"
          ]
        }
      ]
    },
    {
      "cell_type": "markdown",
      "source": [
        "Let's take a taste of our food. Yummmyyyyy, hope you enjoyed it"
      ],
      "metadata": {
        "id": "YsRL4aXAowdK"
      }
    },
    {
      "cell_type": "code",
      "source": [
        "def plot_accuracy(train_sizes, test_accuracies):\n",
        "    \"\"\"\n",
        "    Plot the accuracy as a function of training set size.\n",
        "\n",
        "    Args:\n",
        "        train_sizes (list): List of training set sizes in percentages.\n",
        "        test_accuracies (list): List of corresponding test accuracies.\n",
        "\n",
        "    Returns:\n",
        "        None\n",
        "    \"\"\"\n",
        "    try:\n",
        "        plt.plot(train_sizes * 100, test_accuracies, marker='o')\n",
        "        plt.xlabel('Training Set Size (%)')\n",
        "        plt.ylabel('Test Accuracy')\n",
        "        plt.title('Effect of Training Set Size on Classification Performance')\n",
        "        plt.grid(True)\n",
        "        plt.show()\n",
        "\n",
        "    except Exception as e:\n",
        "        print(\"An error occurred while plotting accuracy:\", str(e))\n",
        "\n",
        "\n",
        "plot_accuracy(subset_sizes, accuracies)\n"
      ],
      "metadata": {
        "colab": {
          "base_uri": "https://localhost:8080/",
          "height": 472
        },
        "id": "r6Y6faXWbCZR",
        "outputId": "5cd09240-6566-4232-bfdc-c4b589e031f6"
      },
      "execution_count": null,
      "outputs": [
        {
          "output_type": "display_data",
          "data": {
            "text/plain": [
              "<Figure size 640x480 with 1 Axes>"
            ],
            "image/png": "[encoded data removed]"
          },
          "metadata": {}
        }
      ]
    },
    {
      "cell_type": "markdown",
      "source": [
        "Here as we are increasing the traiing set size the accuracy is improving, I have some things in mind,\n",
        "* We can get more accuracy by training for some more epochs.\n",
        "* At first place it is obious, as the more data we have our model can generalise well\n",
        "* There might be a problem, as the model is again and again running on same data for testing might be it has learned some features, that can be checked by seeing the training and test losses for checking the overfitting"
      ],
      "metadata": {
        "id": "sgmTPpP-pWPj"
      }
    },
    {
      "cell_type": "code",
      "source": [],
      "metadata": {
        "id": "2XBJ05kZdg6w"
      },
      "execution_count": null,
      "outputs": []
    }
  ]
}